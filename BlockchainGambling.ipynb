{
 "cells": [
  {
   "cell_type": "markdown",
   "metadata": {},
   "source": [
    "## Blockchain Gambling\n",
    "---\n",
    "* We created a blockchain based random number generator game. \n",
    "   > Participants will provide their ETH wallet address and enter a number between 1-100 as their guess. \n",
    "   > The closest guess to the randomly generated number wins.\n",
    "* We also built a smart contract to withdraw your bet, in this case ETH, and store it in escrow until the game is completed and a winner is determined.\n",
    "   > Once a winner is determined, the contract will deposit the pot into the winner's account.\n",
    "* We used https://remix.ethereum.org/ to write our smart contract."
   ]
  },
  {
   "cell_type": "markdown",
   "metadata": {},
   "source": [
    "### Import libraries\n",
    "---"
   ]
  },
  {
   "cell_type": "code",
   "execution_count": 1,
   "metadata": {},
   "outputs": [],
   "source": [
    "# Import libraries\n",
    "from web3 import Web3, HTTPProvider\n",
    "import random"
   ]
  },
  {
   "cell_type": "markdown",
   "metadata": {},
   "source": [
    "### Connect to Blockchain\n",
    "---"
   ]
  },
  {
   "cell_type": "code",
   "execution_count": 2,
   "metadata": {},
   "outputs": [],
   "source": [
    "# Ganache JSON RPC used to connect to Ethereum node: https://www.trufflesuite.com/ganache\n",
    "endpoint = 'HTTP://127.0.0.1:7545'  "
   ]
  },
  {
   "cell_type": "code",
   "execution_count": 3,
   "metadata": {},
   "outputs": [
    {
     "data": {
      "text/plain": [
       "True"
      ]
     },
     "execution_count": 3,
     "metadata": {},
     "output_type": "execute_result"
    }
   ],
   "source": [
    "# Connect to smart contracct and blockchain with Web3.py\n",
    "w3 = Web3(Web3.HTTPProvider(endpoint)) \n",
    "from web3.middleware import geth_poa_middleware\n",
    "w3.middleware_onion.inject(geth_poa_middleware, layer=0)\n",
    "w3.isConnected() "
   ]
  },
  {
   "cell_type": "markdown",
   "metadata": {},
   "source": [
    "### Smart Contract\n",
    "---"
   ]
  },
  {
   "cell_type": "markdown",
   "metadata": {},
   "source": [
    "> **ABI** Address changes when the code that is compiled changes. If the code base is the same, compiling will produce the same ABI. \n",
    "- ABI is generated once your smart contract is compiled.\n",
    "\n",
    "> **Contract Addres** changes when we redeploy the contract.\n",
    "* for the current address `0xA45ff7bd5BA79A3F8699743ED5B5d252B32135dB`"
   ]
  },
  {
   "cell_type": "code",
   "execution_count": 4,
   "metadata": {},
   "outputs": [],
   "source": [
    "# Abstract Binary Interface\n",
    "abi = [\n",
    "\t{\n",
    "\t\t\"inputs\": [],\n",
    "\t\t\"name\": \"address_one\",\n",
    "\t\t\"outputs\": [\n",
    "\t\t\t{\n",
    "\t\t\t\t\"internalType\": \"address payable\",\n",
    "\t\t\t\t\"name\": \"\",\n",
    "\t\t\t\t\"type\": \"address\"\n",
    "\t\t\t}\n",
    "\t\t],\n",
    "\t\t\"stateMutability\": \"view\",\n",
    "\t\t\"type\": \"function\"\n",
    "\t},\n",
    "\t{\n",
    "\t\t\"inputs\": [],\n",
    "\t\t\"name\": \"address_three\",\n",
    "\t\t\"outputs\": [\n",
    "\t\t\t{\n",
    "\t\t\t\t\"internalType\": \"address payable\",\n",
    "\t\t\t\t\"name\": \"\",\n",
    "\t\t\t\t\"type\": \"address\"\n",
    "\t\t\t}\n",
    "\t\t],\n",
    "\t\t\"stateMutability\": \"view\",\n",
    "\t\t\"type\": \"function\"\n",
    "\t},\n",
    "\t{\n",
    "\t\t\"inputs\": [],\n",
    "\t\t\"name\": \"address_two\",\n",
    "\t\t\"outputs\": [\n",
    "\t\t\t{\n",
    "\t\t\t\t\"internalType\": \"address payable\",\n",
    "\t\t\t\t\"name\": \"\",\n",
    "\t\t\t\t\"type\": \"address\"\n",
    "\t\t\t}\n",
    "\t\t],\n",
    "\t\t\"stateMutability\": \"view\",\n",
    "\t\t\"type\": \"function\"\n",
    "\t},\n",
    "\t{\n",
    "\t\t\"inputs\": [],\n",
    "\t\t\"name\": \"contractAddress\",\n",
    "\t\t\"outputs\": [\n",
    "\t\t\t{\n",
    "\t\t\t\t\"internalType\": \"address\",\n",
    "\t\t\t\t\"name\": \"\",\n",
    "\t\t\t\t\"type\": \"address\"\n",
    "\t\t\t}\n",
    "\t\t],\n",
    "\t\t\"stateMutability\": \"view\",\n",
    "\t\t\"type\": \"function\"\n",
    "\t},\n",
    "\t{\n",
    "\t\t\"inputs\": [],\n",
    "\t\t\"name\": \"deposit\",\n",
    "\t\t\"outputs\": [],\n",
    "\t\t\"stateMutability\": \"payable\",\n",
    "\t\t\"type\": \"function\"\n",
    "\t},\n",
    "\t{\n",
    "\t\t\"inputs\": [],\n",
    "\t\t\"name\": \"getBalance\",\n",
    "\t\t\"outputs\": [\n",
    "\t\t\t{\n",
    "\t\t\t\t\"internalType\": \"uint256\",\n",
    "\t\t\t\t\"name\": \"\",\n",
    "\t\t\t\t\"type\": \"uint256\"\n",
    "\t\t\t}\n",
    "\t\t],\n",
    "\t\t\"stateMutability\": \"view\",\n",
    "\t\t\"type\": \"function\"\n",
    "\t},\n",
    "\t{\n",
    "\t\t\"inputs\": [],\n",
    "\t\t\"name\": \"last_deposit_amount\",\n",
    "\t\t\"outputs\": [\n",
    "\t\t\t{\n",
    "\t\t\t\t\"internalType\": \"uint256\",\n",
    "\t\t\t\t\"name\": \"\",\n",
    "\t\t\t\t\"type\": \"uint256\"\n",
    "\t\t\t}\n",
    "\t\t],\n",
    "\t\t\"stateMutability\": \"view\",\n",
    "\t\t\"type\": \"function\"\n",
    "\t},\n",
    "\t{\n",
    "\t\t\"inputs\": [],\n",
    "\t\t\"name\": \"last_deposit_block\",\n",
    "\t\t\"outputs\": [\n",
    "\t\t\t{\n",
    "\t\t\t\t\"internalType\": \"uint256\",\n",
    "\t\t\t\t\"name\": \"\",\n",
    "\t\t\t\t\"type\": \"uint256\"\n",
    "\t\t\t}\n",
    "\t\t],\n",
    "\t\t\"stateMutability\": \"view\",\n",
    "\t\t\"type\": \"function\"\n",
    "\t},\n",
    "\t{\n",
    "\t\t\"inputs\": [],\n",
    "\t\t\"name\": \"last_to_deposit\",\n",
    "\t\t\"outputs\": [\n",
    "\t\t\t{\n",
    "\t\t\t\t\"internalType\": \"address\",\n",
    "\t\t\t\t\"name\": \"\",\n",
    "\t\t\t\t\"type\": \"address\"\n",
    "\t\t\t}\n",
    "\t\t],\n",
    "\t\t\"stateMutability\": \"view\",\n",
    "\t\t\"type\": \"function\"\n",
    "\t},\n",
    "\t{\n",
    "\t\t\"inputs\": [],\n",
    "\t\t\"name\": \"last_to_withdraw\",\n",
    "\t\t\"outputs\": [\n",
    "\t\t\t{\n",
    "\t\t\t\t\"internalType\": \"address\",\n",
    "\t\t\t\t\"name\": \"\",\n",
    "\t\t\t\t\"type\": \"address\"\n",
    "\t\t\t}\n",
    "\t\t],\n",
    "\t\t\"stateMutability\": \"view\",\n",
    "\t\t\"type\": \"function\"\n",
    "\t},\n",
    "\t{\n",
    "\t\t\"inputs\": [],\n",
    "\t\t\"name\": \"last_withdraw_amount\",\n",
    "\t\t\"outputs\": [\n",
    "\t\t\t{\n",
    "\t\t\t\t\"internalType\": \"uint256\",\n",
    "\t\t\t\t\"name\": \"\",\n",
    "\t\t\t\t\"type\": \"uint256\"\n",
    "\t\t\t}\n",
    "\t\t],\n",
    "\t\t\"stateMutability\": \"view\",\n",
    "\t\t\"type\": \"function\"\n",
    "\t},\n",
    "\t{\n",
    "\t\t\"inputs\": [],\n",
    "\t\t\"name\": \"last_withdraw_block\",\n",
    "\t\t\"outputs\": [\n",
    "\t\t\t{\n",
    "\t\t\t\t\"internalType\": \"uint256\",\n",
    "\t\t\t\t\"name\": \"\",\n",
    "\t\t\t\t\"type\": \"uint256\"\n",
    "\t\t\t}\n",
    "\t\t],\n",
    "\t\t\"stateMutability\": \"view\",\n",
    "\t\t\"type\": \"function\"\n",
    "\t},\n",
    "\t{\n",
    "\t\t\"inputs\": [\n",
    "\t\t\t{\n",
    "\t\t\t\t\"internalType\": \"address payable\",\n",
    "\t\t\t\t\"name\": \"_one\",\n",
    "\t\t\t\t\"type\": \"address\"\n",
    "\t\t\t},\n",
    "\t\t\t{\n",
    "\t\t\t\t\"internalType\": \"address payable\",\n",
    "\t\t\t\t\"name\": \"_two\",\n",
    "\t\t\t\t\"type\": \"address\"\n",
    "\t\t\t},\n",
    "\t\t\t{\n",
    "\t\t\t\t\"internalType\": \"address payable\",\n",
    "\t\t\t\t\"name\": \"_three\",\n",
    "\t\t\t\t\"type\": \"address\"\n",
    "\t\t\t}\n",
    "\t\t],\n",
    "\t\t\"name\": \"players\",\n",
    "\t\t\"outputs\": [],\n",
    "\t\t\"stateMutability\": \"nonpayable\",\n",
    "\t\t\"type\": \"function\"\n",
    "\t},\n",
    "\t{\n",
    "\t\t\"inputs\": [],\n",
    "\t\t\"name\": \"prizeAmount\",\n",
    "\t\t\"outputs\": [\n",
    "\t\t\t{\n",
    "\t\t\t\t\"internalType\": \"uint256\",\n",
    "\t\t\t\t\"name\": \"\",\n",
    "\t\t\t\t\"type\": \"uint256\"\n",
    "\t\t\t}\n",
    "\t\t],\n",
    "\t\t\"stateMutability\": \"view\",\n",
    "\t\t\"type\": \"function\"\n",
    "\t},\n",
    "\t{\n",
    "\t\t\"inputs\": [],\n",
    "\t\t\"name\": \"winner\",\n",
    "\t\t\"outputs\": [\n",
    "\t\t\t{\n",
    "\t\t\t\t\"internalType\": \"address payable\",\n",
    "\t\t\t\t\"name\": \"\",\n",
    "\t\t\t\t\"type\": \"address\"\n",
    "\t\t\t}\n",
    "\t\t],\n",
    "\t\t\"stateMutability\": \"view\",\n",
    "\t\t\"type\": \"function\"\n",
    "\t},\n",
    "\t{\n",
    "\t\t\"inputs\": [\n",
    "\t\t\t{\n",
    "\t\t\t\t\"internalType\": \"address payable\",\n",
    "\t\t\t\t\"name\": \"_winner\",\n",
    "\t\t\t\t\"type\": \"address\"\n",
    "\t\t\t}\n",
    "\t\t],\n",
    "\t\t\"name\": \"withdraw\",\n",
    "\t\t\"outputs\": [],\n",
    "\t\t\"stateMutability\": \"nonpayable\",\n",
    "\t\t\"type\": \"function\"\n",
    "\t},\n",
    "\t{\n",
    "\t\t\"stateMutability\": \"payable\",\n",
    "\t\t\"type\": \"receive\"\n",
    "\t}\n",
    "]"
   ]
  },
  {
   "cell_type": "code",
   "execution_count": 5,
   "metadata": {},
   "outputs": [],
   "source": [
    "# Create variable for contract address created from solidity contract\n",
    "contract_address = '0xA45ff7bd5BA79A3F8699743ED5B5d252B32135dB'\n",
    "\n",
    "# Connect to smart contract\n",
    "WithdrawDeposit = w3.eth.contract(address=contract_address, abi=abi)"
   ]
  },
  {
   "cell_type": "code",
   "execution_count": 6,
   "metadata": {},
   "outputs": [
    {
     "data": {
      "text/plain": [
       "['0x7D0d96c44dcbE750d3A9da13C442C226705B5815',\n",
       " '0xC6Bb775DF828Ea1aee61FeAa417b46bD991EF7F5',\n",
       " '0xD77501f48a3E4ca5410CcB8a5840EADACCE57aCf']"
      ]
     },
     "execution_count": 6,
     "metadata": {},
     "output_type": "execute_result"
    }
   ],
   "source": [
    "# Create players from local blockchain Ganache\n",
    "players = [w3.eth.accounts[i+1]for i in range(3)]\n",
    "\n",
    "# Display wallet addresses\n",
    "players"
   ]
  },
  {
   "cell_type": "code",
   "execution_count": 7,
   "metadata": {},
   "outputs": [
    {
     "data": {
      "text/plain": [
       "[<Function address_one()>,\n",
       " <Function address_three()>,\n",
       " <Function address_two()>,\n",
       " <Function contractAddress()>,\n",
       " <Function deposit()>,\n",
       " <Function getBalance()>,\n",
       " <Function last_deposit_amount()>,\n",
       " <Function last_deposit_block()>,\n",
       " <Function last_to_deposit()>,\n",
       " <Function last_to_withdraw()>,\n",
       " <Function last_withdraw_amount()>,\n",
       " <Function last_withdraw_block()>,\n",
       " <Function players(address,address,address)>,\n",
       " <Function prizeAmount()>,\n",
       " <Function winner()>,\n",
       " <Function withdraw(address)>]"
      ]
     },
     "execution_count": 7,
     "metadata": {},
     "output_type": "execute_result"
    }
   ],
   "source": [
    "# Check on all available public functions within the smart contract\n",
    "WithdrawDeposit.all_functions()"
   ]
  },
  {
   "cell_type": "markdown",
   "metadata": {},
   "source": [
    "### Creating our first transaction. \n",
    "* Use '*' to unpack entire list"
   ]
  },
  {
   "cell_type": "code",
   "execution_count": 8,
   "metadata": {},
   "outputs": [
    {
     "data": {
      "text/plain": [
       "HexBytes('0xc5851c4b6095f2a678cd7117733dee2809413cbac0048f0206768e613b8a7e74')"
      ]
     },
     "execution_count": 8,
     "metadata": {},
     "output_type": "execute_result"
    }
   ],
   "source": [
    "# Assign wallet addresses to smart contract\n",
    "WithdrawDeposit.functions.players(*players).transact({'from': '0x4ae123a8103AFA3d7b0023DE2CBeA75D24C80c40'})"
   ]
  },
  {
   "cell_type": "code",
   "execution_count": 9,
   "metadata": {},
   "outputs": [
    {
     "data": {
      "text/plain": [
       "'0xC6Bb775DF828Ea1aee61FeAa417b46bD991EF7F5'"
      ]
     },
     "execution_count": 9,
     "metadata": {},
     "output_type": "execute_result"
    }
   ],
   "source": [
    "# Confirm players were written to the contract\n",
    "WithdrawDeposit.functions.address_two().call()"
   ]
  },
  {
   "cell_type": "code",
   "execution_count": 10,
   "metadata": {},
   "outputs": [],
   "source": [
    "# Making sure all players deposit 1 ETH into the contract\n",
    "amount = 10**18 # This is the exponential number of wei make up 1 ETH\n",
    "for p in players:\n",
    "    WithdrawDeposit.functions.deposit().transact({'from':p, 'value': amount})"
   ]
  },
  {
   "cell_type": "markdown",
   "metadata": {},
   "source": [
    "### Some validation functions\n",
    "---"
   ]
  },
  {
   "cell_type": "code",
   "execution_count": 11,
   "metadata": {},
   "outputs": [
    {
     "data": {
      "text/plain": [
       "3000000000000000000"
      ]
     },
     "execution_count": 11,
     "metadata": {},
     "output_type": "execute_result"
    }
   ],
   "source": [
    "# Confirm all withdrawls are complete by displaying the smart contracts balance\n",
    "WithdrawDeposit.functions.getBalance().call()"
   ]
  },
  {
   "cell_type": "code",
   "execution_count": 12,
   "metadata": {},
   "outputs": [
    {
     "data": {
      "text/plain": [
       "'0xD77501f48a3E4ca5410CcB8a5840EADACCE57aCf'"
      ]
     },
     "execution_count": 12,
     "metadata": {},
     "output_type": "execute_result"
    }
   ],
   "source": [
    "# Check who was the last deposit\n",
    "WithdrawDeposit.functions.last_to_deposit().call()"
   ]
  },
  {
   "cell_type": "code",
   "execution_count": 13,
   "metadata": {},
   "outputs": [
    {
     "data": {
      "text/plain": [
       "1000000000000000000"
      ]
     },
     "execution_count": 13,
     "metadata": {},
     "output_type": "execute_result"
    }
   ],
   "source": [
    "# check last amount deposited\n",
    "WithdrawDeposit.functions.last_deposit_amount().call()"
   ]
  },
  {
   "cell_type": "code",
   "execution_count": 14,
   "metadata": {},
   "outputs": [
    {
     "data": {
      "text/plain": [
       "3000000000000000000"
      ]
     },
     "execution_count": 14,
     "metadata": {},
     "output_type": "execute_result"
    }
   ],
   "source": [
    "# total Prize Amount\n",
    "WithdrawDeposit.functions.prizeAmount().call()"
   ]
  },
  {
   "cell_type": "markdown",
   "metadata": {},
   "source": [
    "### Random Number Genereator\n",
    "---"
   ]
  },
  {
   "cell_type": "code",
   "execution_count": 15,
   "metadata": {},
   "outputs": [
    {
     "name": "stdin",
     "output_type": "stream",
     "text": [
      "Enter your ETH wallet address - Bet Size is 1 ETH 0x7D0d96c44dcbE750d3A9da13C442C226705B5815\n",
      "Enter a number between 1 and 100 45\n",
      "Enter your ETH wallet address - Bet Size is 1 ETH 0xC6Bb775DF828Ea1aee61FeAa417b46bD991EF7F5\n",
      "Enter a number between 1 and 100 64\n",
      "Enter your ETH wallet address - Bet Size is 1 ETH 0xD77501f48a3E4ca5410CcB8a5840EADACCE57aCf\n",
      "Enter a number between 1 and 100 12\n"
     ]
    },
    {
     "name": "stdout",
     "output_type": "stream",
     "text": [
      "The random number is 56\n",
      "Winner Winner Chicken Dinner! 64 is the winning number!\n"
     ]
    }
   ],
   "source": [
    "# Generate random number from 1-100\n",
    "random_number = random.randint(1,100)\n",
    "\n",
    "# Input each players wallet address and guess\n",
    "address_one = input('Enter your ETH wallet address - Bet Size is 1 ETH')\n",
    "player_one = input('Enter a number between 1 and 100')\n",
    "\n",
    "address_two = input('Enter your ETH wallet address - Bet Size is 1 ETH')\n",
    "player_two = input('Enter a number between 1 and 100')\n",
    "\n",
    "address_three =input('Enter your ETH wallet address - Bet Size is 1 ETH')\n",
    "player_three = input('Enter a number between 1 and 100')\n",
    "\n",
    "# Convert guesses from string to integer\n",
    "one_num = int(player_one)\n",
    "two_num = int(player_two)\n",
    "three_num = int(player_three)\n",
    "\n",
    "# list player guess integers\n",
    "guesses = [one_num, two_num, three_num]\n",
    "\n",
    "# Choose the closest guess to the random number\n",
    "winner = min(guesses, key=lambda x: abs(x - random_number))\n",
    "\n",
    "# Print the random number and the winner\n",
    "print(f'The random number is {random_number}')\n",
    "print(f'Winner Winner Chicken Dinner! {winner} is the winning number!')"
   ]
  },
  {
   "cell_type": "code",
   "execution_count": 16,
   "metadata": {},
   "outputs": [],
   "source": [
    "# Make variables for won function below\n",
    "w1 = (address_one, one_num)\n",
    "w2 = (address_two, two_num)\n",
    "w3 = (address_three, three_num)"
   ]
  },
  {
   "cell_type": "code",
   "execution_count": 28,
   "metadata": {},
   "outputs": [],
   "source": [
    "# determine winning players wallet address\n",
    "def won(p1, p2, p3, winner):\n",
    "    '''\n",
    "    note: maximum three players\n",
    "    Arguemnts: p1 tuple for wallet address and quess number for player one\n",
    "    '''\n",
    "    if winner == p1[1]:\n",
    "        winner = p1[0]\n",
    "    elif winner == p2[1]:\n",
    "        winner = p2[0]\n",
    "    elif winner == p3[1]:\n",
    "        winner = p3[0]\n",
    "    return winner\n",
    "\n",
    "win = won(w1, w2, w3, winner)"
   ]
  },
  {
   "cell_type": "code",
   "execution_count": 29,
   "metadata": {},
   "outputs": [
    {
     "data": {
      "text/plain": [
       "'0xC6Bb775DF828Ea1aee61FeAa417b46bD991EF7F5'"
      ]
     },
     "execution_count": 29,
     "metadata": {},
     "output_type": "execute_result"
    }
   ],
   "source": [
    "# Display winning wallet address\n",
    "win"
   ]
  },
  {
   "cell_type": "markdown",
   "metadata": {},
   "source": [
    "### Complete the smart contract\n",
    "---"
   ]
  },
  {
   "cell_type": "code",
   "execution_count": 22,
   "metadata": {},
   "outputs": [
    {
     "data": {
      "text/plain": [
       "HexBytes('0x11d2d720ae8d5f32f2f9cc755f9bc21ea1e2044a03c97ed9ad7b458464294f32')"
      ]
     },
     "execution_count": 22,
     "metadata": {},
     "output_type": "execute_result"
    }
   ],
   "source": [
    "# Pay the winner\n",
    "WithdrawDeposit.functions.withdraw(win).transact({'from': '0x4ae123a8103AFA3d7b0023DE2CBeA75D24C80c40'})"
   ]
  },
  {
   "cell_type": "code",
   "execution_count": 23,
   "metadata": {},
   "outputs": [
    {
     "data": {
      "text/plain": [
       "3000000000000000000"
      ]
     },
     "execution_count": 23,
     "metadata": {},
     "output_type": "execute_result"
    }
   ],
   "source": [
    "# Display amount withdrawn from the smart contract\n",
    "WithdrawDeposit.functions.last_withdraw_amount().call()"
   ]
  },
  {
   "cell_type": "code",
   "execution_count": 24,
   "metadata": {},
   "outputs": [
    {
     "data": {
      "text/plain": [
       "'0xC6Bb775DF828Ea1aee61FeAa417b46bD991EF7F5'"
      ]
     },
     "execution_count": 24,
     "metadata": {},
     "output_type": "execute_result"
    }
   ],
   "source": [
    "# Display wallet address of last withdraw (Winning Address)\n",
    "WithdrawDeposit.functions.last_to_withdraw().call()"
   ]
  },
  {
   "cell_type": "code",
   "execution_count": 30,
   "metadata": {},
   "outputs": [
    {
     "data": {
      "text/plain": [
       "True"
      ]
     },
     "execution_count": 30,
     "metadata": {},
     "output_type": "execute_result"
    }
   ],
   "source": [
    "# Compare wallet address from winner and where funds were sent\n",
    "ww = WithdrawDeposit.functions.last_to_withdraw().call()\n",
    "ww == win"
   ]
  },
  {
   "cell_type": "code",
   "execution_count": 25,
   "metadata": {},
   "outputs": [
    {
     "data": {
      "text/plain": [
       "0"
      ]
     },
     "execution_count": 25,
     "metadata": {},
     "output_type": "execute_result"
    }
   ],
   "source": [
    "# Confrim money is no longer in smart contract\n",
    "WithdrawDeposit.functions.getBalance().call()"
   ]
  },
  {
   "cell_type": "code",
   "execution_count": 26,
   "metadata": {},
   "outputs": [
    {
     "data": {
      "text/plain": [
       "0"
      ]
     },
     "execution_count": 26,
     "metadata": {},
     "output_type": "execute_result"
    }
   ],
   "source": [
    "# Display current amount in prize money function within smart contract\n",
    "WithdrawDeposit.functions.prizeAmount().call()"
   ]
  },
  {
   "cell_type": "markdown",
   "metadata": {},
   "source": [
    "### Solidity Code\n",
    "---\n",
    "https://remix.ethereum.org "
   ]
  },
  {
   "cell_type": "code",
   "execution_count": null,
   "metadata": {},
   "outputs": [],
   "source": [
    "pragma solidity >=0.6.2 <0.8.0;\n",
    "\n",
    "contract WithdrawDeposit {\n",
    "    \n",
    "    address payable public address_one;\n",
    "    address payable public address_two;\n",
    "    address payable public address_three;\n",
    "    address payable public winner;\n",
    "    \n",
    "    address public last_to_withdraw;\n",
    "    uint public last_withdraw_block;\n",
    "    uint public last_withdraw_amount;\n",
    "  \n",
    "    address public last_to_deposit;\n",
    "    uint public last_deposit_block;\n",
    "    uint public last_deposit_amount;\n",
    "    \n",
    "    uint public prizeAmount = 0;\n",
    "    address public contractAddress = address(this);\n",
    "    \n",
    "    \n",
    "    function players(address payable _one, address payable _two, address payable _three) external {\n",
    "        \n",
    "        address_one = _one;\n",
    "        address_two = _two;\n",
    "        address_three = _three;\n",
    "    \n",
    "    }\n",
    "    \n",
    "    function withdraw(address payable _winner) public {\n",
    "        require(_winner == address_one || _winner == address_two || _winner == address_three, \"Not a Participant!\");\n",
    "        \n",
    "        last_to_withdraw = _winner;\n",
    "        last_withdraw_block = block.number;\n",
    "        last_withdraw_amount = prizeAmount;\n",
    "        \n",
    "        _winner.transfer(prizeAmount);  \n",
    "         \n",
    "        prizeAmount=0;\n",
    "    \n",
    "  }\n",
    "  \n",
    "    function getBalance() public view returns(uint) {\n",
    "        return address(this).balance;\n",
    "  }"
   ]
  }
 ],
 "metadata": {
  "kernelspec": {
   "display_name": "Python 3",
   "language": "python",
   "name": "python3"
  },
  "language_info": {
   "codemirror_mode": {
    "name": "ipython",
    "version": 3
   },
   "file_extension": ".py",
   "mimetype": "text/x-python",
   "name": "python",
   "nbconvert_exporter": "python",
   "pygments_lexer": "ipython3",
   "version": "3.7.7"
  }
 },
 "nbformat": 4,
 "nbformat_minor": 4
}
